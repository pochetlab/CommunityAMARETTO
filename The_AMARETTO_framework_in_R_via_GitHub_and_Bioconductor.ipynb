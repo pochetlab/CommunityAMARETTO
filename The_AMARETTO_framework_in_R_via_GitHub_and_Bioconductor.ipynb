{
  "nbformat": 4,
  "nbformat_minor": 0,
  "metadata": {
    "colab": {
      "name": "The *AMARETTO framework in R via GitHub and Bioconductor.ipynb",
      "version": "0.3.2",
      "provenance": [],
      "collapsed_sections": [],
      "toc_visible": true
    },
    "kernelspec": {
      "display_name": "R",
      "language": "R",
      "name": "ir"
    }
  },
  "cells": [
    {
      "metadata": {
        "id": "i_1GenMUNRZT",
        "colab_type": "text"
      },
      "cell_type": "markdown",
      "source": [
        "# The &#42;AMARETTO framework in R via GitHub and Bioconductor\n",
        "## <i> Multiscale and multimodal inference of regulatory networks to identify cell circuits and their drivers shared and distinct within and across biological systems of human disease</i>\n",
        "#### Mohsen Nabian<sup>&#35;</sup>, Jayendra Shinde<sup>&#35;</sup>, Celine Everaert<sup>&#35;</sup>, Shaimaa Bakr<sup>&#35;</sup>, Ted Liefeld, Thomas Baumert, Michael Reich, Jill Mesirov, Mikel Hernaez<sup>&#42;</sup>, Vincent Carey<sup>&#42;</sup>, Olivier Gevaert<sup>&#42;</sup>, Nathalie Pochet<sup>&#42;</sup>"
      ]
    },
    {
      "metadata": {
        "id": "LujO14znmO0J",
        "colab_type": "text"
      },
      "cell_type": "markdown",
      "source": [
        "## Introduction to the &#42;AMARETTO algorithm and software toolbox\n",
        "\n",
        "Computational inference of regulatory networks underlying complex human diseases is one of the fundamental goals of systems biology and has shown great promise for deciphering the regulatory cell circuits driving complex disease biology, especially in cancer. The availability of increasing volumes of multimodal data ranging from multi-omics to imaging and clinical data across multiscale systems promises to improve our understanding of the regulatory mechanisms underlying complex human diseases. The main challenges are to integrate the multiple levels of multimodal data within biological systems and to translate them across multiscale biological systems to decipher the underpinnings of human diseases.\n",
        "\n",
        "Here we introduce the <B>&#42;AMARETTO framework</B> as a toolbox for learning how regulatory networks - cell circuits and their drivers - are shared or distinct within and across biological systems with a broad range of applications, from disease subtyping to driver and drug discovery in studies of human disease such as cancer. The &#42;AMARETTO toolbox currently consists of two algorithmic tools:\n",
        "\n",
        "(<B>1</B>) The <B>AMARETTO algorithm</B> facilitates multimodal inference of regulatory networks within one biological system via multi-omics data fusion (e.g., genetic, epigenetic, transcriptomic, proteomic) and association with phenotypes derived from clinical (e.g., diagnostic and prognostic) and imaging (e.g., histopathology and radiographic) data.\n",
        "\n",
        "(<B>2</B>) The <B>Community-AMARETTO algorithm</B> enables multiscale inference to learn how these regulatory networks are shared or distinct across biological systems (e.g., across diseases, across cohorts, across model systems and patient studies, and across <i>in vitro</i> and <i>in vivo</i> systems). \n",
        "\n",
        "The &#42;AMARETTO framework is available as user-friendly tools from GitHub, Bioconductor, GenePattern, GenomeSpace, GenePattern Notebook and R Jupyter Notebook (see <B>Resources</B>).\n",
        "\n",
        "Beyond our recent applications to studies of cancer (see <B>References</B>) the &#42;AMARETTO software toolbox is more generally applicable to studies of human disease, including cancer, infectious, neurologic and immune-mediated diseases."
      ]
    },
    {
      "metadata": {
        "id": "IKn1qCqB0muA",
        "colab_type": "text"
      },
      "cell_type": "markdown",
      "source": [
        "## &#42;AMARETTO core tools and downstream analytic functionalities\n",
        "\n",
        "The &#42;AMARETTO framework currently consists of two algorithmic software tools. First, <B>AMARETTO</B> infers regulatory networks within each biological system via multi-omics data fusion. Specifically, AMARETTO identifies potential cancer drivers by identifying genes whose genetic and epigenetic cancer aberrations have a direct functional impact on their own transcriptomic or proteomic expression. These (epi)genetic drivers can be augmented, intersected or replaced with predefined candidate drivers with known regulatory function (e.g., transcription factors from TFutils). AMARETTO then connects these drivers in a regulatory program with modules of co-expressed target genes that they putatively control, defined as regulatory modules or cell circuits, using a regularized regression algorithm (i.e., Elastic Net regression). Next, <B>Community-AMARETTO</B> learns communities or subnetworks by connecting regulatory networks inferred from different systems using an edge betweenness community detection algorithm (i.e., Girvan Newman) to identify cell circuits and drivers that are shared and distinct across biological systems and diseases.\n",
        "\n",
        "The &#42;AMARETTO framework additionally offers tools for <B>downstream analytic functionalities</B> on both module and community levels, including functional annotation of modules and communities (e.g., using known functional categories from MSigDB), stratifying modules and communities for increasingly specific phenotypes (e.g., patient characteristics such as survival, molecular subclasses, known (epi)genetic cancer aberrations, or features derived from histopathology and  radiographic imaging, as well as in-depth studies of etiologies of cancer via spatiotemporal - time course and/or single-cell - studies in model systems), validation of predicted drivers (e.g., using genetic perturbation studies in model systems – knockdown or overexpression experiments of driver genes), discovering drugs targeting drivers and their predicted target genes (e.g., using chemical perturbation studies in model systems), and systematic assessment and benchmarking of the networks for generalized prediction performance of the (sub)networks."
      ]
    },
    {
      "metadata": {
        "id": "1XemfQskXI2N",
        "colab_type": "text"
      },
      "cell_type": "markdown",
      "source": [
        "### In this tutorial, we will guide you through the following steps for running the &#42;AMARETTO toolbox in R via GitHub and Bioconductor<br><br>\n",
        "\n",
        "<B>Step 1</B>: Before you begin, install software for running &#42;AMARETTO<br>\n",
        "\n",
        "<B>Step 2</B>: Preparing data for running &#42;AMARETTO<br>\n",
        "\n",
        "<B>Step 3</B>: Running AMARETTO on first example study: inferring regulatory networks via multi-omics data fusion for TCGA LIHC patient cohort<br>\n",
        "\n",
        "<B>Step 4</B>: Running AMARETTO on second example study: inferring regulatory networks from RNA-Seq data from CCLE liver cell lines<br>\n",
        "\n",
        "<B>Step 5</B>: Running Community-AMARETTO to combine both example studies: identifying regulatory subnetworks or communities shared and distinct across TCGA and CCLE cohorts<br><br>\n",
        "\n",
        "<B>Time complexity</B>, <B>Resources</B>, <B>References</B>, and <B>Funding</B><br><br>\n",
        "\n",
        "<B>Questions?</B>\n",
        "\n",
        "For any questions with the &#42;AMARETTO Notebooks, please contact <B>Nathalie Pochet</B> (<npochet@broadinstitute.org>) and <B>Olivier Gevaert</B> (<olivier.gevaert@stanford.edu>).\n"
      ]
    },
    {
      "metadata": {
        "id": "XafG1MeEcWGg",
        "colab_type": "text"
      },
      "cell_type": "markdown",
      "source": [
        "# Step 1: Before you begin, install software for running &#42;AMARETTO\n",
        "\n",
        "Import libraries required for running the &#42;AMARETTO in R Notebook by running the next code cells.\n",
        "\n",
        "The &#42;AMARETTO toolbox can be installed from GitHub (development versions) or from Bioconductor (official releases).\n",
        "\n",
        "For GitHub repositories you can proceed with <B>Step 1.a</B>.\n",
        "\n",
        "For Bioconductor repositories you can proceed with <B>Step 1.b</B>."
      ]
    },
    {
      "metadata": {
        "id": "dvexZdsbbFse",
        "colab_type": "text"
      },
      "cell_type": "markdown",
      "source": [
        "## Step 1.a. Installing the &#42;AMARETTO toolbox from GitHub (Development Versions)"
      ]
    },
    {
      "metadata": {
        "id": "nlaJfgrUGRSG",
        "colab_type": "text"
      },
      "cell_type": "markdown",
      "source": [
        "### Installing systems libraries on Linux server"
      ]
    },
    {
      "metadata": {
        "id": "fvv2uXiJGn9g",
        "colab_type": "code",
        "colab": {}
      },
      "cell_type": "code",
      "source": [
        "system(\"sudo apt-get install libv8-dev\", intern = TRUE, ignore.stderr = TRUE)"
      ],
      "execution_count": 0,
      "outputs": []
    },
    {
      "metadata": {
        "id": "iumPMoglGMLI",
        "colab_type": "text"
      },
      "cell_type": "markdown",
      "source": [
        "### Installing and loading AMARETTO"
      ]
    },
    {
      "metadata": {
        "id": "0wxBjLaVfutf",
        "colab_type": "text"
      },
      "cell_type": "markdown",
      "source": [
        "For a clean start, prior to installing new versions of AMARETTO, use the following code cell to remove previous installations:"
      ]
    },
    {
      "metadata": {
        "id": "J6pfl52lH1Jm",
        "colab_type": "code",
        "colab": {}
      },
      "cell_type": "code",
      "source": [
        "detach(\"package:AMARETTO\", unload=TRUE)\n",
        "remove.packages(\"AMARETTO\")"
      ],
      "execution_count": 0,
      "outputs": []
    },
    {
      "metadata": {
        "id": "HiYk6dv0lJEE",
        "colab_type": "text"
      },
      "cell_type": "markdown",
      "source": [
        "Installing the latest versions of AMARETTO. This may take a few minutes..."
      ]
    },
    {
      "metadata": {
        "id": "5SlTloLSakQm",
        "colab_type": "code",
        "colab": {}
      },
      "cell_type": "code",
      "source": [
        "devtools::install_github(\"gevaertlab/AMARETTO\", ref=\"for35_develop\", dependencies=TRUE)"
      ],
      "execution_count": 0,
      "outputs": []
    },
    {
      "metadata": {
        "id": "owEi-bqER2cN",
        "colab_type": "code",
        "colab": {}
      },
      "cell_type": "code",
      "source": [
        "library(\"AMARETTO\")"
      ],
      "execution_count": 0,
      "outputs": []
    },
    {
      "metadata": {
        "id": "iV9ESZr1GvyL",
        "colab_type": "text"
      },
      "cell_type": "markdown",
      "source": [
        "### Installing and loading Community-AMARETTO"
      ]
    },
    {
      "metadata": {
        "id": "b-ZKwPsugFJQ",
        "colab_type": "text"
      },
      "cell_type": "markdown",
      "source": [
        "For a clean start, prior to installing new versions of Community-AMARETTO, use the following code cell to remove previous installations:"
      ]
    },
    {
      "metadata": {
        "id": "qv1-Y_JLHqFF",
        "colab_type": "code",
        "colab": {}
      },
      "cell_type": "code",
      "source": [
        "detach(\"package:CommunityAMARETTO\", unload=TRUE)\n",
        "remove.packages(\"CommunityAMARETTO\")"
      ],
      "execution_count": 0,
      "outputs": []
    },
    {
      "metadata": {
        "id": "2jy63ziGlUbT",
        "colab_type": "text"
      },
      "cell_type": "markdown",
      "source": [
        "Installing the latest versions of Community-AMARETTO. This may take a few minutes..."
      ]
    },
    {
      "metadata": {
        "id": "rf9FyhsHG6E8",
        "colab_type": "code",
        "colab": {}
      },
      "cell_type": "code",
      "source": [
        "devtools::install_github(\"broadinstitute/CommunityAMARETTO\", ref=\"develop\", dependencies=TRUE)"
      ],
      "execution_count": 0,
      "outputs": []
    },
    {
      "metadata": {
        "id": "35wXyiFNHHih",
        "colab_type": "code",
        "colab": {}
      },
      "cell_type": "code",
      "source": [
        "library(\"CommunityAMARETTO\")"
      ],
      "execution_count": 0,
      "outputs": []
    },
    {
      "metadata": {
        "id": "Ms8ObFJnFgle",
        "colab_type": "text"
      },
      "cell_type": "markdown",
      "source": [
        "## Step 1.b. Installing the &#42;AMARETTO toolbox from Bioconductor (Official Releases)\n",
        "\n",
        "Note: Bioconductor packages require R-3.6, which will be installed on Google Colab servers soon."
      ]
    },
    {
      "metadata": {
        "id": "S_OmBIqwlt7C",
        "colab_type": "text"
      },
      "cell_type": "markdown",
      "source": [
        "### Installing systems libraries on Linux server"
      ]
    },
    {
      "metadata": {
        "id": "YHQO1ZjulyQY",
        "colab_type": "code",
        "colab": {}
      },
      "cell_type": "code",
      "source": [
        "system(\"sudo apt-get install libv8-dev\", intern = TRUE, ignore.stderr = TRUE)"
      ],
      "execution_count": 0,
      "outputs": []
    },
    {
      "metadata": {
        "id": "Kwzi_ZAJgjZC",
        "colab_type": "text"
      },
      "cell_type": "markdown",
      "source": [
        "### Installing and loading AMARETTO\n",
        "\n",
        "This may take a few minutes..."
      ]
    },
    {
      "metadata": {
        "id": "vAZlzaWFFgNu",
        "colab_type": "code",
        "colab": {}
      },
      "cell_type": "code",
      "source": [
        "if (!requireNamespace(\"BiocManager\", quietly = TRUE))\n",
        "    install.packages(\"BiocManager\")\n",
        "BiocManager::install(\"AMARETTO\", version = \"3.9\")"
      ],
      "execution_count": 0,
      "outputs": []
    },
    {
      "metadata": {
        "id": "cjQ-idL1gmOT",
        "colab_type": "text"
      },
      "cell_type": "markdown",
      "source": [
        "### Installing and loading Community-AMARETTO\n",
        "\n",
        "This may take a few minutes..."
      ]
    },
    {
      "metadata": {
        "id": "D9h5o5wDgvVJ",
        "colab_type": "text"
      },
      "cell_type": "markdown",
      "source": [
        "In preparation for submission to Bioconductor."
      ]
    },
    {
      "metadata": {
        "id": "efkCnWSZfB4j",
        "colab_type": "text"
      },
      "cell_type": "markdown",
      "source": [
        "# Step 2. Preparing data for running &#42;AMARETTO\n",
        "\n",
        "The &#42;AMARETTO framework can be run both on your own data or we have preloaded example data and processed data from patient cohorts from the The Cancer Genome Atlas (TCGA) database.\n",
        "\n",
        "For running the Notebook on <B>your own data</B> you can immediately proceed to <B>Step 3</B>. AMARETTO can be run with gene expression (MA) data only, or if you also have matched copy number variation (CNV) and DNA methylation (MET) data then these data can be added as well.\n",
        "\n",
        "For running the Notebook on <B>preloaded TCGA data</B> please continue in this <B>Step 2</B>. Processed data from patient cohorts from TCGA are available from <https://datasets.genepattern.org/?prefix=data/module_support_files/Amaretto/> in .GCT format. By proceeding in this <B>Step 2</B> you can see how these files are automatically read from this link and how they can be converted to data matrices in R format by running the code cells below.\n",
        "\n",
        "For running the Notebook on <B>example data</B> you can immediately proceed to <B>Step 3</B>. Example data used in this Notebook is automatically read from the following link and also available for download from <https://www.broadinstitute.org/~npochet/ExampleData/>.\n",
        "\n",
        "\n"
      ]
    },
    {
      "metadata": {
        "id": "Q0rVU7IPj1L5",
        "colab_type": "text"
      },
      "cell_type": "markdown",
      "source": [
        "## Access to processed data from TCGA\n",
        "\n",
        "The processed genetic, epigenetic and transcriptomic data sources from TCGA are directly accessible via this function for analysis by &#42;AMARETTO within this R Notebook. These TCGA data files are derived from The Cancer Genome Atlas (TCGA) database as available from the Broad GDAC FireHose Portal (<https://gdac.broadinstitute.org/>).\n",
        "\n",
        "From <https://datasets.genepattern.org/?prefix=data/module_support_files/Amaretto/> three data files for each cancer (sub)type can be directly accessed or downloaded: (<B>1</B>) mRNA gene expression data (MA), (<B>2</B>) DNA copy number variation data (CNV), and (<B>3</B>) DNA methylation data (MET).\n",
        "\n",
        "The list of TCGA cancer (sub)types currently available in this &#42;AMARETTO in R Notebook are:\n",
        "\n",
        "<table>\n",
        "    <tr><td>BLCA</td><td>bladder urothelial carcinoma</td></tr>\n",
        "    <tr><td>BRCA</td><td>breast invasive carcinoma</td></tr>\n",
        "    <tr><td>CESC</td><td>cervical squamous cell carcinoma and endocervical adenocarcinoma</td></tr>\n",
        "    <tr><td>CHOL</td><td>cholangiocarcinoma</td></tr>\n",
        "    <tr><td>COAD</td><td>colon adenocarcinoma</td></tr>\n",
        "    <tr><td>ESCA</td><td>esophageal carcinoma</td></tr>\n",
        "    <tr><td>GBM</td><td>glioblastoma multiforme</td></tr>\n",
        "    <tr><td>HNSC</td><td>head and neck squamous cell carcinoma</td></tr>\n",
        "    <tr><td>KIRC</td><td>kidney renal clear cell carcinoma</td></tr>\n",
        "    <tr><td>KIRP</td><td>kidney renal papillary cell carcinoma</td></tr>\n",
        "    <tr><td>LAML</td><td>acute myeloid leukemia</td></tr>\n",
        "    <tr><td>LGG</td><td>brain lower grade glioma </td></tr>\n",
        "    <tr><td>LIHC</td><td>liver hepatocellular carcinoma</td></tr>\n",
        "    <tr><td>LUAD</td><td>lung adenocarcinoma</td></tr>\n",
        "    <tr><td>LUSC</td><td>lung squamous cell carcinoma</td></tr>\n",
        "    <tr><td>OV</td><td>ovarian serous cystadenocarcinoma</td></tr>\n",
        "    <tr><td>PAAD</td><td>pancreatic adenocarcinoma</td></tr>\n",
        "    <tr><td>PCPG</td><td>pheochromocytoma and paraganglioma</td></tr>\n",
        "    <tr><td>READ</td><td>rectum adenocarcinoma</td></tr>\n",
        "    <tr><td>SARC</td><td>sarcoma</td></tr>\n",
        "    <tr><td>STAD</td><td>stomach adenocarcinoma</td></tr>\n",
        "    <tr><td>THCA</td><td>thyroid carcinoma</td></tr>\n",
        "    <tr><td>THYM</td><td>thymoma</td></tr>\n",
        "    <tr><td>UCEC</td><td>endometrial carcinoma</td></tr>\n",
        "</table>"
      ]
    },
    {
      "metadata": {
        "id": "srrcvoP5i1Ag",
        "colab_type": "text"
      },
      "cell_type": "markdown",
      "source": [
        "Function for converting the preloaded TCGA data from .GCT format to a data matrix in R:"
      ]
    },
    {
      "metadata": {
        "id": "GGnhNjBcOCh-",
        "colab_type": "code",
        "colab": {}
      },
      "cell_type": "code",
      "source": [
        "read_gct <- function(file_address){\n",
        " data_fr = read.delim(file_address, skip=2, sep=\"\\t\", header=TRUE, row.names=1)\n",
        " data_fr <- subset(data_fr, select=-c(Description))\n",
        "}"
      ],
      "execution_count": 0,
      "outputs": []
    },
    {
      "metadata": {
        "id": "WCMQyeM5jUI8",
        "colab_type": "text"
      },
      "cell_type": "markdown",
      "source": [
        "Example converting the TCGA LIHC Gene Expression (MA), Copy Number Variation (CNV) and DNA Methylation (MET) data:"
      ]
    },
    {
      "metadata": {
        "id": "noYnVlwcNoN1",
        "colab_type": "code",
        "colab": {}
      },
      "cell_type": "code",
      "source": [
        "MA_matrix_LIHC = data.matrix(read_gct(\"https://datasets.genepattern.org/data/module_support_files/Amaretto/TCGA_LIHC_Expression.gct\"))\n",
        "CNV_matrix_LIHC = data.matrix(read_gct(\"https://datasets.genepattern.org/data/module_support_files/Amaretto/TCGA_LIHC_CNV.gct\"))\n",
        "MET_matrix_LIHC = data.matrix(read_gct(\"https://datasets.genepattern.org/data/module_support_files/Amaretto/TCGA_LIHC_Methylation.gct\"))"
      ],
      "execution_count": 0,
      "outputs": []
    },
    {
      "metadata": {
        "id": "jNZ4UI_oLkkn",
        "colab_type": "text"
      },
      "cell_type": "markdown",
      "source": [
        "# Step 3. Running AMARETTO on first example study: inferring regulatory networks via multi-omics data fusion for TCGA LIHC patient cohort\n",
        "\n",
        "The AMARETTO algorithm that infers regulatory networks within one cohort or biological system can be run in multiple ways: (<B>1</B>) via multi-omics data fusion in case genetic, epigenetic and functional genomics data are available (see example in this <B>Step 3</B> for multi-omics data from TCGA), or (<B>2</B>) if only functional genomics data are available (see example in next <B>Step 4</B> for transcriptomic data from CCLE).\n",
        "\n",
        "When <B>either genetic</B> (e.g., DNA copy number variation) <B>or epigenetic</B> (e.g., DNA methylation) data <B>or both</B> are available in addition to functional genomics (e.g., transcriptomic or proteomic) data, there are various options for defining candidate drivers for analysis by the AMARETTO algorithm.\n",
        "\n",
        "In case <B>only functional genomics</B> (i.e., mRNA or protein gene expression) data are available, a predefined list of candidate regulators is required for analysis by the AMARETTO algorithm.\n",
        "\n",
        "The AMARETTO algorithm can take various definitions of candidate drivers:\n",
        "\n",
        "(<B>1</B>) Select <B>computed lists of candidate drivers</B> from genetic (e.g., DNA copy number variation) or epigenetic (e.g., DNA methylation) data sources (if corresponding data files are uploaded);\n",
        "\n",
        "(<B>2</B>) Select or upload <B>predefined lists of candidate drivers</B>, such as transcription factors (e.g., from TFutils <https://bioconductor.org/packages/release/bioc/html/TFutils.html> <https://f1000research.com/articles/8-152/v1>, MSigDB C3 TFT <http://software.broadinstitute.org/gsea/msigdb/collections.jsp>,...) or cancer drivers (e.g., from MSigDB <http://software.broadinstitute.org/gsea/msigdb/collections.jsp>, COSMIC <https://cancer.sanger.ac.uk/cosmic>) available from the AMARETTO package (see data(\"Driver_Genes\"));\n",
        "\n",
        "(<B>3</B>) Take the <B>union or intersection</B> between <B>computed</B> (<B>1</B>) and <B>predefined</B> (<B>2</B>) <B>lists of candidate drivers</B>.\n",
        "\n",
        "For computed lists of candidate drivers from genetic (e.g., DNA copy number variation) or epigenetic (e.g., DNA methylation) data sources, these are precomputed for TCGA data, however, for processing own data additional algorithms may be required. In case of TCGA data, the <B>GISTIC algorithm</B> is used to identify somatic recurrent DNA copy number aberrations (copy number amplifications and deletions) and the <B>MethylMix algorithm</B> (available from Bioconductor) is used to identify recurrent DNA methylation aberrations (hyper and hypo methylated sites) that have a direct functional impact on their own gene expression levels (positive association for DNA copy number aberrations, negative association for DNA methylation aberrations)."
      ]
    },
    {
      "metadata": {
        "id": "-MF7YzS9ZRGS",
        "colab_type": "text"
      },
      "cell_type": "markdown",
      "source": [
        "## Step 3.a. Preparing data and parameter settings for running AMARETTO"
      ]
    },
    {
      "metadata": {
        "id": "9uXOqyJZUS2h",
        "colab_type": "text"
      },
      "cell_type": "markdown",
      "source": [
        "### Loading multi-omics data from TCGA LIHC cohort"
      ]
    },
    {
      "metadata": {
        "id": "ULbA1Eqfe3BI",
        "colab_type": "text"
      },
      "cell_type": "markdown",
      "source": [
        "#### Loading Gene Expression (MA) data from TCGA LIHC patient cohort (Required)"
      ]
    },
    {
      "metadata": {
        "id": "-T79d9sXe6on",
        "colab_type": "code",
        "colab": {}
      },
      "cell_type": "code",
      "source": [
        "MA_matrix_LIHC <- readRDS(url(\"https://www.broadinstitute.org/~npochet/ExampleData/MA_matrix_LIHC.rds\"))"
      ],
      "execution_count": 0,
      "outputs": []
    },
    {
      "metadata": {
        "id": "LUuOpoChNCwA",
        "colab_type": "text"
      },
      "cell_type": "markdown",
      "source": [
        "#### Loading Copy Number Variation (CNV) data from TCGA LIHC cohort (Optional)"
      ]
    },
    {
      "metadata": {
        "id": "tm-Ezy9KNbcy",
        "colab_type": "code",
        "colab": {}
      },
      "cell_type": "code",
      "source": [
        "CNV_matrix_LIHC <- readRDS(url(\"https://www.broadinstitute.org/~npochet/ExampleData/CNV_matrix_LIHC.rds\"))"
      ],
      "execution_count": 0,
      "outputs": []
    },
    {
      "metadata": {
        "id": "LG-nojeaNrUu",
        "colab_type": "text"
      },
      "cell_type": "markdown",
      "source": [
        "#### Loading DNA Methylation (MET) data from TCGA LIHC cohort (Optional)"
      ]
    },
    {
      "metadata": {
        "id": "voWuJqu5N0xt",
        "colab_type": "code",
        "colab": {}
      },
      "cell_type": "code",
      "source": [
        "MET_matrix_LIHC <- readRDS(url(\"https://www.broadinstitute.org/~npochet/ExampleData/MET_matrix_LIHC.rds\"))"
      ],
      "execution_count": 0,
      "outputs": []
    },
    {
      "metadata": {
        "id": "XN4gLh1OP6hh",
        "colab_type": "text"
      },
      "cell_type": "markdown",
      "source": [
        "#### Combining multi-omics data sources from TCGA LIHC cohort (Required)\n",
        "\n",
        "You can select one of the following four options depending on which data sources (MA, CNV, MET) were previously submitted:"
      ]
    },
    {
      "metadata": {
        "id": "5jNhDM07VEcc",
        "colab_type": "text"
      },
      "cell_type": "markdown",
      "source": [
        "If all three data sources (MA, CNV, MET) are available, you can run the following code cell:"
      ]
    },
    {
      "metadata": {
        "id": "dZ6HkU08QEm0",
        "colab_type": "code",
        "colab": {}
      },
      "cell_type": "code",
      "source": [
        "ProcessedData_LIHC = list(MA_matrix=MA_matrix_LIHC, CNV_matrix=CNV_matrix_LIHC, MET_matrix=MET_matrix_LIHC)"
      ],
      "execution_count": 0,
      "outputs": []
    },
    {
      "metadata": {
        "id": "X2wANYLvVGE3",
        "colab_type": "text"
      },
      "cell_type": "markdown",
      "source": [
        "Alternatively, if only MA and CNV data sources are available, you can run the following code cell:"
      ]
    },
    {
      "metadata": {
        "id": "CfcuPVAlVMoQ",
        "colab_type": "code",
        "colab": {}
      },
      "cell_type": "code",
      "source": [
        "ProcessedData_LIHC = list(MA_matrix=MA_matrix_LIHC, CNV_matrix=CNV_matrix_LIHC, MET_matrix=NULL)"
      ],
      "execution_count": 0,
      "outputs": []
    },
    {
      "metadata": {
        "id": "eKe7eB_6VNW7",
        "colab_type": "text"
      },
      "cell_type": "markdown",
      "source": [
        "Alternatively, if only MA and MET data sources are available, you can run the following code cell:"
      ]
    },
    {
      "metadata": {
        "id": "2RSIp1FqVW95",
        "colab_type": "code",
        "colab": {}
      },
      "cell_type": "code",
      "source": [
        "ProcessedData_LIHC = list(MA_matrix=MA_matrix_LIHC, CNV_matrix=NULL, MET_matrix=MET_matrix_LIHC)"
      ],
      "execution_count": 0,
      "outputs": []
    },
    {
      "metadata": {
        "id": "uwyb0fgiVRnJ",
        "colab_type": "text"
      },
      "cell_type": "markdown",
      "source": [
        "Alternatively, if only MA data is available, you can run the following code cell:"
      ]
    },
    {
      "metadata": {
        "id": "_AG38R79VYkp",
        "colab_type": "code",
        "colab": {}
      },
      "cell_type": "code",
      "source": [
        "ProcessedData_LIHC = list(MA_matrix=LIHC_MA, CNV_matrix=NULL, MET_matrix=NULL)"
      ],
      "execution_count": 0,
      "outputs": []
    },
    {
      "metadata": {
        "id": "0B_iGOmhe73V",
        "colab_type": "text"
      },
      "cell_type": "markdown",
      "source": [
        "### Defining List(s) of Candidate Driver Genes  (Required)\n",
        "\n",
        "In case CNV and/or MET data are submitted in addition to MA data, you can choose to either (<B>1</B>) use those as candidate drivers, or (<B>2</B>) take the union of these with predefined lists of candidate drivers, or (<B>3</B>) take the intersection with predefined lists of candidate drivers.\n",
        "\n",
        "Alternatively, for example, if only MA data is available, you should select or upload a predefined list of candidate driver genes (required)."
      ]
    },
    {
      "metadata": {
        "id": "9a18GSB9e_NJ",
        "colab_type": "code",
        "colab": {}
      },
      "cell_type": "code",
      "source": [
        "data(\"Driver_Genes\")\n",
        "TF_candidate_drivers <- Driver_Genes$TFs_TFutils_union\n",
        "\n",
        "combination_method <- \"union\""
      ],
      "execution_count": 0,
      "outputs": []
    },
    {
      "metadata": {
        "id": "9lWsQriJfeYk",
        "colab_type": "text"
      },
      "cell_type": "markdown",
      "source": [
        "### Setting parameters for running AMARETTO (Required)\n",
        "\n",
        "Core parameters that can be set by the user for running AMARETTO include:\n",
        "\n",
        "(<B>1</B>) <B>Number of regulatory modules</B> (i.e., cell circuits and their drivers) to be inferred. As a rule of thumb, hiqh quality regulatory modules  comprise of ~60-80 genes, so the optimal range of number of modules can be calculated by dividing the total number of genes in the analysis (see parameter % variation) by these numbers. Depending on the number of genes in the analysis, the ideal suggested range is ~100-200 modules.\n",
        "\n",
        "(<B>2</B>) <B>Percentage of most varying genes</B> across the sample population (% genes) to be included in the analysis. This is based on the functional genomics data, which can be population RNA-Seq, single-cell RNA-Seq, or proteomics data. While genes that do not vary across the population (i.e., stdev zero) are automatically filtered out from the analysis, it is recommended to adjust the % variation filter for each dataset. Depending on the type of data, the ideal suggested range is ~25%-75% genes that vary the most across the population."
      ]
    },
    {
      "metadata": {
        "id": "8ALCc2EGfgow",
        "colab_type": "code",
        "colab": {}
      },
      "cell_type": "code",
      "source": [
        "NrModules = 5\n",
        "VarPercentage = 10"
      ],
      "execution_count": 0,
      "outputs": []
    },
    {
      "metadata": {
        "id": "Pi_KiK5afikx",
        "colab_type": "text"
      },
      "cell_type": "markdown",
      "source": [
        "### Setting parameters for generating HTML results reports (Optional)\n",
        "\n",
        "Additional parameters that can be set by the user for running AMARETTO include:\n",
        "\n",
        "(<B>1</B>) Define <B>collections of known functional categories</B> for functional characterization of the regulatory modules or cell circuits, such as, for example, the Hallmark and C2 collections from MSigDB in this example. More collections can be downloaded from <http://software.broadinstitute.org/gsea/msigdb/collections.jsp>) and/or uploaded by the user in .GMT format.\n",
        "\n",
        "(<B>2</B>) Define <B>phenotypes</B> that can be submitted for visualization on the heatmaps of regulatory modules generated by AMARETTO, as well as tested for their associations with regulatory modules using statistical tests provided by AMARETTO.\n",
        "\n",
        "(<B>3</B>) Provide a <B>base \"file name\" for output files</B> generated by the AMARETTO analysis (e.g., myAmarettoAnalysis)."
      ]
    },
    {
      "metadata": {
        "id": "on_OoN5kfksq",
        "colab_type": "code",
        "colab": {}
      },
      "cell_type": "code",
      "source": [
        "genesets_database_reference <- \"H_C2_genesets.gmt\"\n",
        "download.file(url=\"https://www.broadinstitute.org/~npochet/ExampleData/H_C2_genesets.gmt\", destfile=genesets_database_reference)\n",
        "\n",
        "samples_phenotypes_annotation <- readr::read_delim(url(\"https://www.broadinstitute.org/~npochet/ExampleData/Samples_LIHC_phenotypes.txt\"),\"\\t\")\n",
        "\n",
        "# Categorize and Factorize phenotypes for better visualization.\n",
        "samples_phenotypes_annotation$SurvivalTime<-as.factor(cut(samples_phenotypes_annotation$SurvivalTime, 7, include.lowest=TRUE, dig.lab = 5))\n",
        "samples_phenotypes_annotation$SurvivalCensoring<-as.factor(samples_phenotypes_annotation$SurvivalCensoring)\n",
        "\n",
        "output_directory_TCGA = \"./AMARETTO_report_TCGA/\"\n",
        "dir.create(output_directory_TCGA) "
      ],
      "execution_count": 0,
      "outputs": []
    },
    {
      "metadata": {
        "id": "sYaobfOrfwVU",
        "colab_type": "text"
      },
      "cell_type": "markdown",
      "source": [
        "### Setting parameters for computing on servers (Optional)\n",
        "\n",
        "Selecting the number of cores for parallel computing:"
      ]
    },
    {
      "metadata": {
        "id": "CiYLtgBwfxW8",
        "colab_type": "code",
        "colab": {}
      },
      "cell_type": "code",
      "source": [
        "NrCores = 4"
      ],
      "execution_count": 0,
      "outputs": []
    },
    {
      "metadata": {
        "id": "Vw89ajfGf0B7",
        "colab_type": "text"
      },
      "cell_type": "markdown",
      "source": [
        "## Step 3.b. Running AMARETTO via multi-omics data fusion"
      ]
    },
    {
      "metadata": {
        "id": "UmymP1HHqNL9",
        "colab_type": "text"
      },
      "cell_type": "markdown",
      "source": [
        "### Running AMARETTO for inferring regulatory networks from multi-omics data\n",
        "\n",
        "By running the following code cell, you can now run the AMARETTO algorithm."
      ]
    },
    {
      "metadata": {
        "id": "MeihU4Vef14O",
        "colab_type": "code",
        "colab": {}
      },
      "cell_type": "code",
      "source": [
        "AMARETTOinit <- AMARETTO_Initialize(ProcessedData = ProcessedData_LIHC,\n",
        "                                    Driver_list = TF_candidate_drivers,\n",
        "                                    method = combination_method,\n",
        "                                    NrModules = NrModules,\n",
        "                                    VarPercentage = VarPercentage,\n",
        "                                    NrCores = NrCores)\n",
        "\n",
        "AMARETTOresults <- AMARETTO_Run(AMARETTOinit)"
      ],
      "execution_count": 0,
      "outputs": []
    },
    {
      "metadata": {
        "id": "gQfDYBwff4PR",
        "colab_type": "text"
      },
      "cell_type": "markdown",
      "source": [
        "### Generating an HTML report for AMARETTO results\n",
        "\n",
        "By running the following code cell, the AMARETTO report will be generated and can be accessed in the left panel. "
      ]
    },
    {
      "metadata": {
        "id": "0gg6An2Rf6xp",
        "colab_type": "code",
        "colab": {}
      },
      "cell_type": "code",
      "source": [
        "AMARETTO_HTMLreport(AMARETTOinit = AMARETTOinit,\n",
        "                    AMARETTOresults = AMARETTOresults,\n",
        "                    ProcessedData = ProcessedData_LIHC,\n",
        "                    VarPercentage = VarPercentage,\n",
        "                    hyper_geo_test_bool = TRUE,\n",
        "                    hyper_geo_reference = genesets_database_reference,\n",
        "                    output_address = output_directory_TCGA,\n",
        "                    SAMPLE_annotation = samples_phenotypes_annotation,\n",
        "                    ID = 'Sample')"
      ],
      "execution_count": 0,
      "outputs": []
    },
    {
      "metadata": {
        "id": "fCUrSxHafSNz",
        "colab_type": "text"
      },
      "cell_type": "markdown",
      "source": [
        "### Saving and downloading AMARETTO results files and HTML report\n",
        "\n",
        "By running the following code cell, you can download a .zip file of the AMARETTO report as well as .rds data and results files in the left panel by right-clicking on each file and selecting <i>Download</i>. "
      ]
    },
    {
      "metadata": {
        "id": "ZxTCON5VvcWA",
        "colab_type": "code",
        "colab": {}
      },
      "cell_type": "code",
      "source": [
        "saveRDS(AMARETTOinit, file=\"TCGA_AMARETTOinit.rds\")\n",
        "saveRDS(AMARETTOresults, file=\"TCGA_AMARETTOresults.rds\")\n",
        "zip(zipfile = \"AMARETTO_report_TCGA.zip\", files=output_directory_TCGA)"
      ],
      "execution_count": 0,
      "outputs": []
    },
    {
      "metadata": {
        "id": "-TTFyP8t5CiT",
        "colab_type": "text"
      },
      "cell_type": "markdown",
      "source": [
        "## Step 3.c. Viewing AMARETTO results of first AMARETTO analysis\n",
        "\n",
        "The .zip file generated in previous step provides a queryable .html AMARETTO report. The AMARETTO report includes:\n",
        "\n",
        "(<B>1</B>) An overview <B>index.html</B> page that provides:\n",
        "- A summary of the analyzed data (# of samples in genetic, epigenetic and functional genomics data, % and # of most varying genes, # of regulatory modules)\n",
        "- A queryable overview table of inferred regulatory modules\n",
        "- A queryable overview table of gene assignments (drivers and targets) to regulatory modules\n",
        "- A queryable overview table with enrichments of known functional categories in regulatory modules\n",
        "\n",
        "(<B>2</B>) For each regulatory module a <B>module#.html</B> page is generated that provides:\n",
        "- A heatmap visualization of the functional genomics or multi-omics data of inferred regulatory modules, onto which known phenotypic information can be mapped (e.g., imaging and clinical features)\n",
        "- A queryable table of inferred regulatory programs, including activator and repressor driver genes\n",
        "- A queryable table of target genes of the regulatory modules\n",
        "- A queryable table with enrichments of known functional categories in regulatory modules\n",
        "\n",
        "Overview and module-specific Tables and Heatmaps can be saved as .CSV, .Excel, .PDF and .PNG files."
      ]
    },
    {
      "metadata": {
        "id": "EKwqXm-bg5xm",
        "colab_type": "text"
      },
      "cell_type": "markdown",
      "source": [
        "# Step 4. Running AMARETTO on second example study: inferring regulatory networks from RNA-Seq data from CCLE liver cell lines\n",
        "\n",
        "The AMARETTO algorithm that infers regulatory networks within one cohort or biological system can be run in multiple ways: (<B>1</B>) via multi-omics data fusion in case genetic, epigenetic and functional genomics data are available (see example in previouss <B>Step 3</B> for multi-omics data from TCGA), or (<B>2</B>) if only functional genomics data are available (see example in this <B>Step 4</B> for transcriptomic data from CCLE). See <B>Step 3</B> for more detailed information."
      ]
    },
    {
      "metadata": {
        "id": "280dIFIMdESl",
        "colab_type": "text"
      },
      "cell_type": "markdown",
      "source": [
        "## Step 4.a. Preparing data and parameter settings for running AMARETTO"
      ]
    },
    {
      "metadata": {
        "id": "uG4wLKTrdQDq",
        "colab_type": "text"
      },
      "cell_type": "markdown",
      "source": [
        "### Loading RNA-Seq data from CCLE liver cell lines"
      ]
    },
    {
      "metadata": {
        "id": "7NNNrfcPdjyv",
        "colab_type": "text"
      },
      "cell_type": "markdown",
      "source": [
        "#### Loading Gene Expression (MA) data from CCLE liver cell lines (Required)"
      ]
    },
    {
      "metadata": {
        "id": "4Y8QOfje92cn",
        "colab_type": "code",
        "colab": {}
      },
      "cell_type": "code",
      "source": [
        "MA_matrix_CCLE <- readRDS(url(\"https://www.broadinstitute.org/~npochet/ExampleData/MA_matrix_CCLE.rds\"))\n",
        "ProcessedData_CCLE = list(MA_matrix=MA_matrix_CCLE, CNV_matrix=NULL, MET_matrix=NULL)"
      ],
      "execution_count": 0,
      "outputs": []
    },
    {
      "metadata": {
        "id": "C7rl6rqfdx4c",
        "colab_type": "text"
      },
      "cell_type": "markdown",
      "source": [
        "### Defining List(s) of Candidate Driver Genes  (Required)\n",
        "\n",
        "In this example, we precompiled a list of candidate driver genes that takes the union of TCGA genetic and epigenetic drivers with TFutils transcription factors (same list of candidate drivers as in <B>Step 3</B>)"
      ]
    },
    {
      "metadata": {
        "id": "Ly4zCdHheEN2",
        "colab_type": "code",
        "colab": {}
      },
      "cell_type": "code",
      "source": [
        "candidate_drivers_CCLE <- readRDS(url(\"https://www.broadinstitute.org/~npochet/ExampleData/candidate_drivers_CCLE.rds\"))"
      ],
      "execution_count": 0,
      "outputs": []
    },
    {
      "metadata": {
        "id": "7v8j74mCeAaJ",
        "colab_type": "text"
      },
      "cell_type": "markdown",
      "source": [
        "### Setting parameters for running AMARETTO (Required)\n",
        "\n",
        "Core parameters that can be set by the user for running AMARETTO. See <B>Step 3</B> for more detailed information."
      ]
    },
    {
      "metadata": {
        "id": "HyqUGqwheDr3",
        "colab_type": "code",
        "colab": {}
      },
      "cell_type": "code",
      "source": [
        "NrModules = 5\n",
        "VarPercentage = 10"
      ],
      "execution_count": 0,
      "outputs": []
    },
    {
      "metadata": {
        "id": "GMVqHtGHeLwa",
        "colab_type": "text"
      },
      "cell_type": "markdown",
      "source": [
        "### Setting parameters for generating HTML results reports (Optional)\n",
        "\n",
        "Additional parameters that can be set by the user for running AMARETTO. See <B>Step 3</B> for more detailed information."
      ]
    },
    {
      "metadata": {
        "id": "VggGszsweRK5",
        "colab_type": "code",
        "colab": {}
      },
      "cell_type": "code",
      "source": [
        "genesets_database_reference <- \"H_C2_genesets.gmt\"\n",
        "download.file(url=\"https://www.broadinstitute.org/~npochet/ExampleData/H_C2_genesets.gmt\", destfile=genesets_database_reference)\n",
        "\n",
        "output_directory_CCLE = \"./AMARETTO_report_CCLE/\"\n",
        "dir.create(output_directory_CCLE)"
      ],
      "execution_count": 0,
      "outputs": []
    },
    {
      "metadata": {
        "id": "Du9lMyrRe-Sc",
        "colab_type": "text"
      },
      "cell_type": "markdown",
      "source": [
        "### Setting parameters for computing on servers (Optional)\n",
        "\n",
        "Selecting the number of cores for parallel computing."
      ]
    },
    {
      "metadata": {
        "id": "SHW3omn6fAzQ",
        "colab_type": "code",
        "colab": {}
      },
      "cell_type": "code",
      "source": [
        "NrCores = 4"
      ],
      "execution_count": 0,
      "outputs": []
    },
    {
      "metadata": {
        "id": "Cg4CfFtxfHII",
        "colab_type": "text"
      },
      "cell_type": "markdown",
      "source": [
        "## Step 4.b. Running AMARETTO on transcriptomics data"
      ]
    },
    {
      "metadata": {
        "id": "a3Ugrxl11wiL",
        "colab_type": "text"
      },
      "cell_type": "markdown",
      "source": [
        "### Running AMARETTO for inferring regulatory networks from transcriptomics data\n",
        "\n",
        "By running the following code cell, you can now run the AMARETTO algorithm."
      ]
    },
    {
      "metadata": {
        "id": "OkfHJyo5g9K1",
        "colab_type": "code",
        "colab": {}
      },
      "cell_type": "code",
      "source": [
        "AMARETTOinit <- AMARETTO_Initialize(ProcessedData = ProcessedData_CCLE,\n",
        "                                    Driver_list = candidate_drivers_CCLE,\n",
        "                                    NrModules = NrModules,\n",
        "                                    VarPercentage = VarPercentage,\n",
        "                                    NrCores = NrCores)\n",
        "\n",
        "AMARETTOresults <- AMARETTO_Run(AMARETTOinit)"
      ],
      "execution_count": 0,
      "outputs": []
    },
    {
      "metadata": {
        "id": "UU04dQxTfOTX",
        "colab_type": "text"
      },
      "cell_type": "markdown",
      "source": [
        "### Generating an HTML report for AMARETTO results\n",
        "\n",
        "By running the following code cell, the AMARETTO report will be generated and can be accessed in the left panel. "
      ]
    },
    {
      "metadata": {
        "id": "CH1VaW2MANzC",
        "colab_type": "code",
        "colab": {}
      },
      "cell_type": "code",
      "source": [
        "AMARETTO_HTMLreport(AMARETTOinit = AMARETTOinit,\n",
        "                    AMARETTOresults = AMARETTOresults,\n",
        "                    ProcessedData = ProcessedData_CCLE,\n",
        "                    VarPercentage = VarPercentage,\n",
        "                    hyper_geo_test_bool = TRUE,\n",
        "                    hyper_geo_reference = genesets_database_reference,\n",
        "                    output_address = output_directory_CCLE,\n",
        "                    SAMPLE_annotation = NULL,\n",
        "                    ID = 'Sample')"
      ],
      "execution_count": 0,
      "outputs": []
    },
    {
      "metadata": {
        "id": "TQXCYb9PfaGd",
        "colab_type": "text"
      },
      "cell_type": "markdown",
      "source": [
        "### Saving and downloading AMARETTO results files and HTML report\n",
        "\n",
        "By running the following code cell, you can download a .zip file of the AMARETTO report as well as .rds data and results files in the left panel by right-clicking on each file and selecting <i>Download</i>. "
      ]
    },
    {
      "metadata": {
        "id": "91faVA5UAPnt",
        "colab_type": "code",
        "colab": {}
      },
      "cell_type": "code",
      "source": [
        "saveRDS(AMARETTOinit, file=\"CCLE_AMARETTOinit.rds\")\n",
        "saveRDS(AMARETTOresults, file=\"CCLE_AMARETTOresults.rds\")\n",
        "zip(zipfile = \"AMARETTO_report_CCLE.zip\",files=output_directory_CCLE)"
      ],
      "execution_count": 0,
      "outputs": []
    },
    {
      "metadata": {
        "id": "1kyAirtI50Wd",
        "colab_type": "text"
      },
      "cell_type": "markdown",
      "source": [
        "## Step 4.c. Viewing AMARETTO results of second AMARETTO analysis\n",
        "\n",
        "The .zip file generated in previous step provides a queryable .html AMARETTO report. See <B>Step 3</B> for more detailed information."
      ]
    },
    {
      "metadata": {
        "id": "u5RtAoG_g-Xl",
        "colab_type": "text"
      },
      "cell_type": "markdown",
      "source": [
        "# Step 5. Running Community-AMARETTO to combine both example studies: identifying regulatory subnetworks or communities shared and distinct across TCGA and CCLE cohorts\n",
        "\n",
        "The Community-AMARETTO algorithm takes as input results from two or more previous AMARETTO analyses to identify regulatory subnetworks or communities (i.e., cell circuits and their drivers) that are shared and distinct across multiple datasets, cohorts, biological systems and diseases."
      ]
    },
    {
      "metadata": {
        "id": "594P3rhC0t7O",
        "colab_type": "text"
      },
      "cell_type": "markdown",
      "source": [
        "## Step 5.a. Preparing data and parameter settings for running Community-AMARETTO"
      ]
    },
    {
      "metadata": {
        "id": "Vm66ARW50163",
        "colab_type": "text"
      },
      "cell_type": "markdown",
      "source": [
        "### Loading two or more results from AMARETTO, in this example the previous TCGA and CCLE results (Required)\n",
        "\n",
        "Selecting AMARETTO analyses for Community-AMARETTO analysis. The user can submit the .rds files that represent the corresponding results from at least two or more previous AMARETTO analyses (see above, run in <B>Steps 3 and 4</B>)."
      ]
    },
    {
      "metadata": {
        "id": "3Eiq2lUG1LDn",
        "colab_type": "code",
        "colab": {}
      },
      "cell_type": "code",
      "source": [
        "AMARETTOinit_TCGA <- readRDS(file=\"TCGA_AMARETTOinit.rds\")\n",
        "AMARETTOresults_TCGA <- readRDS(file=\"TCGA_AMARETTOresults.rds\")\n",
        "\n",
        "AMARETTOinit_CCLE <- readRDS(file=\"CCLE_AMARETTOinit.rds\")\n",
        "AMARETTOresults_CCLE <- readRDS(file=\"CCLE_AMARETTOresults.rds\")\n",
        "\n",
        "HTMLsAMARETTOlist <- c(\"TCGA\"=output_directory_TCGA,\"CCLE\"=output_directory_CCLE)"
      ],
      "execution_count": 0,
      "outputs": []
    },
    {
      "metadata": {
        "id": "G3Vnw32i1VvX",
        "colab_type": "text"
      },
      "cell_type": "markdown",
      "source": [
        "### Loading additional networks as a set of signatures in .GMT format (Optional)"
      ]
    },
    {
      "metadata": {
        "id": "QPE0wkq6P7Cv",
        "colab_type": "text"
      },
      "cell_type": "markdown",
      "source": [
        "One or more additional networks can be submitted as signatures files in .GMT format and combined by running the following code cell. These networks are used in Community-AMARETTO as separate networks. In this example, we submit previously published signatures and/or networks, such as immune signatures from CiberSort, stemness signatures from <i>Ben-Porath et al.</i>, and diagnostic and prognistic liver cancer signatures from Hoshida <i>et al.</i> as three independent networks to be analyzed together with the liver cancer networks derived from TCGA in <B>Step 3</B> and CCLE in <B>Step 4</B>.\n",
        "\n",
        "If additional networks are submitted, please run following cell code to include them in the analysis."
      ]
    },
    {
      "metadata": {
        "id": "sYHmOGbB8ff4",
        "colab_type": "code",
        "colab": {}
      },
      "cell_type": "code",
      "source": [
        "ImmuneSignatures <- \"ImmuneSignatures.gmt\"\n",
        "download.file(url=\"https://www.broadinstitute.org/~npochet/ExampleData/ImmuneSignatures.gmt\", destfile=ImmuneSignatures)\n",
        "\n",
        "StemSignatures <- \"StemSignatures.gmt\"\n",
        "download.file(url=\"https://www.broadinstitute.org/~npochet/ExampleData/StemSignatures.gmt\", destfile=StemSignatures)\n",
        "\n",
        "LiverSignatures <- \"LiverSignatures.gmt\"\n",
        "download.file(url=\"https://www.broadinstitute.org/~npochet/ExampleData/LiverSignatures.gmt\", destfile=LiverSignatures)\n",
        "\n",
        "list_additional_networks = list(ImmuneSignatures = \"ImmuneSignatures.gmt\", StemSignatures = \"StemSignatures.gmt\", LiverSignatures = \"LiverSignatures.gmt\")"
      ],
      "execution_count": 0,
      "outputs": []
    },
    {
      "metadata": {
        "id": "MqxLNYvbPpPs",
        "colab_type": "text"
      },
      "cell_type": "markdown",
      "source": [
        "Otherwise set to NULL."
      ]
    },
    {
      "metadata": {
        "id": "PNJNEXmy1me7",
        "colab_type": "code",
        "colab": {}
      },
      "cell_type": "code",
      "source": [
        "list_additional_networks = NULL"
      ],
      "execution_count": 0,
      "outputs": []
    },
    {
      "metadata": {
        "id": "4eaUumrx16w9",
        "colab_type": "text"
      },
      "cell_type": "markdown",
      "source": [
        "### Setting parameters for generating HTML results reports (Optional)\n",
        "\n",
        "Additional parameters that can be set by the user for running Community-AMARETTO include:\n",
        "\n",
        "(<B>1</B>) Define <B>collections of known functional categories</B> for functional characterization of the regulatory subnetworks or communities, such as, for example, the Hallmark and C2 collections from MSigDB in this example. More collections can be downloaded from <http://software.broadinstitute.org/gsea/msigdb/collections.jsp>) and/or uploaded by the user in .GMT format.\n",
        "\n",
        "(<B>2</B>) Provide a <B>base \"file name\" for output files</B> generated by the Community-AMARETTO analysis (e.g., myCommunityAmarettoAnalysis)."
      ]
    },
    {
      "metadata": {
        "id": "iUaf7ddK1-Nx",
        "colab_type": "code",
        "colab": {}
      },
      "cell_type": "code",
      "source": [
        "genesets_database_reference <- \"H_C2_genesets.gmt\"\n",
        "download.file(url=\"https://www.broadinstitute.org/~npochet/ExampleData/H_C2_genesets.gmt\", destfile=genesets_database_reference) \n",
        "\n",
        "output_directory_cAMARETTO = \"./cAMARETTO_report/\"\n",
        "dir.create(output_directory_cAMARETTO)"
      ],
      "execution_count": 0,
      "outputs": []
    },
    {
      "metadata": {
        "id": "bzzTc_rR26nz",
        "colab_type": "text"
      },
      "cell_type": "markdown",
      "source": [
        "### Setting parameters for computing on servers (Optional)\n",
        "\n",
        "Selecting the number of cores for parallel computing."
      ]
    },
    {
      "metadata": {
        "id": "G4UzbGOf2-8r",
        "colab_type": "code",
        "colab": {}
      },
      "cell_type": "code",
      "source": [
        "NrCores = 4"
      ],
      "execution_count": 0,
      "outputs": []
    },
    {
      "metadata": {
        "id": "TxcA1jaAhJSn",
        "colab_type": "text"
      },
      "cell_type": "markdown",
      "source": [
        "## Step 5.b. Running Community-AMARETTO\n",
        "\n",
        "By running the following code cells, you can now run the Community-AMARETTO algorithm."
      ]
    },
    {
      "metadata": {
        "id": "MscNu86IKI28",
        "colab_type": "text"
      },
      "cell_type": "markdown",
      "source": [
        "You can run the following code cell for computing the extent of overlaps between all regulatory modules learned across data cohorts."
      ]
    },
    {
      "metadata": {
        "id": "XNSuUd1s9Tnt",
        "colab_type": "code",
        "colab": {}
      },
      "cell_type": "code",
      "source": [
        "cAMARETTOresults<-cAMARETTO_Results(AMARETTOinit_all = list(TCGA=AMARETTOinit_TCGA,CCLE=AMARETTOinit_CCLE) ,\n",
        "                                    AMARETTOresults_all = list(TCGA=AMARETTOresults_TCGA,CCLE=AMARETTOresults_CCLE),\n",
        "                                    gmt_filelist = list_additional_networks,\n",
        "                                    NrCores = NrCores,\n",
        "                                    drivers = FALSE)"
      ],
      "execution_count": 0,
      "outputs": []
    },
    {
      "metadata": {
        "id": "nkFqOghlKZJl",
        "colab_type": "text"
      },
      "cell_type": "markdown",
      "source": [
        "Creating and filtering edges in the module networks across data cohorts. Additional parameters that can be set by the user in this step include:\n",
        "\n",
        "(<B>1</B>) <B>Filtering edges in the subnetworks or communities based on p-value significance</B>. Edges in the network with p-values larger than the cutoff value will be filtered out. The default cutoff p-value is 0.05.<br>\n",
        "\n",
        "(<B>2</B>) <B>Filtering edges in the subnetworks or communities based on the minimum number overlapping genes</B>. Edges in the network with the number of overlapping genes less than the cutoff value will be filtered out. The default cutoff value is 5 overlapping genes."
      ]
    },
    {
      "metadata": {
        "id": "XYvnzKQB9cFw",
        "colab_type": "code",
        "colab": {}
      },
      "cell_type": "code",
      "source": [
        "cAMARETTOnetworkM<-cAMARETTO_ModuleNetwork(cAMARETTOresults,\n",
        "                                           pvalue = 0.05,\n",
        "                                           inter = 5)"
      ],
      "execution_count": 0,
      "outputs": []
    },
    {
      "metadata": {
        "id": "nefRTpujKb93",
        "colab_type": "text"
      },
      "cell_type": "markdown",
      "source": [
        "Identifying and filtering edges in the subnetworks across data cohorts. Additional parameters that can be set by the user in this step include:\n",
        "\n",
        "<B>Filtering edges in the subnetworks or communities that do not satisfy all the following conditions</B>:<br>\n",
        "(<B>1</B>) Number of nodes in the community larger than the 1% of the total number of nodes in the network,<br>\n",
        "(<B>2</B>) Number of represented datasets/cohorts in the community larger than the 10% of the subnetwork size (and at least, larger than 2),<br>\n",
        "(<B>3</B>) Ratio between edges inside/outside the community larger than 0.5.<br>\n",
        "\n",
        "The user can choose between filtering according to these criteria, in which case edges in the network that do not satisfy all of these criteria will be filtered out, or whether to not apply these filtering criteria to retain all edges."
      ]
    },
    {
      "metadata": {
        "id": "U8kkfN7v9d0i",
        "colab_type": "code",
        "colab": {}
      },
      "cell_type": "code",
      "source": [
        "cAMARETTOnetworkC<-cAMARETTO_IdentifyCom(cAMARETTOnetworkM,\n",
        "                                         filterComm = FALSE,\n",
        "                                         ratioCommSize = 0.01,\n",
        "                                         MinRuns = 2,\n",
        "                                         ratioRunSize = 0.1,\n",
        "                                         ratioEdgesInOut = 0.5)"
      ],
      "execution_count": 0,
      "outputs": []
    },
    {
      "metadata": {
        "id": "DgoFiU_BLkuZ",
        "colab_type": "text"
      },
      "cell_type": "markdown",
      "source": [
        "Generating the Community-AMARETTO .html reports that directly link to the original AMARETTO .html reports."
      ]
    },
    {
      "metadata": {
        "id": "e1r_4lXOhKwF",
        "colab_type": "code",
        "colab": {}
      },
      "cell_type": "code",
      "source": [
        "cAMARETTO_HTMLreport(cAMARETTOresults = cAMARETTOresults,\n",
        "                     cAMARETTOnetworkM = cAMARETTOnetworkM,\n",
        "                     cAMARETTOnetworkC = cAMARETTOnetworkC,\n",
        "                     HTMLsAMARETTOlist = HTMLsAMARETTOlist,\n",
        "                     CopyAMARETTOReport = TRUE,\n",
        "                     hyper_geo_test_bool = TRUE,\n",
        "                     hyper_geo_reference = genesets_database_reference,\n",
        "                     MSIGDB = TRUE,\n",
        "                     output_address= output_directory_cAMARETTO)"
      ],
      "execution_count": 0,
      "outputs": []
    },
    {
      "metadata": {
        "id": "2K-wauAqJla_",
        "colab_type": "text"
      },
      "cell_type": "markdown",
      "source": [
        "### Saving and downloading Community-AMARETTO results files and HTML report\n",
        "\n",
        "By running the following code cell, you can download a .zip file of the Community-AMARETTO report as well as .rds data files in the left panel by right-clicking on each file and selecting *Download*. "
      ]
    },
    {
      "metadata": {
        "id": "BBZlAOOtJZcN",
        "colab_type": "code",
        "colab": {}
      },
      "cell_type": "code",
      "source": [
        "saveRDS(cAMARETTOresults, file=\"cAMARETTOresults.rds\")\n",
        "saveRDS(cAMARETTOnetworkM, file=\"cAMARETTOnetworkM.rds\")\n",
        "saveRDS(cAMARETTOnetworkC, file=\"cAMARETTOnetworkC.rds\")\n",
        "zip(zipfile = \"cAMARETTO_report.zip\",files=output_directory_cAMARETTO)"
      ],
      "execution_count": 0,
      "outputs": []
    },
    {
      "metadata": {
        "id": "65e8lUX99BlM",
        "colab_type": "text"
      },
      "cell_type": "markdown",
      "source": [
        "## Step 5.c. Viewing AMARETTO results of Community-AMARETTO analysis\n",
        "\n",
        "The .zip file generated in previous step provides a queryable .html Community-AMARETTO report that directly links to the original AMARETTO analyses from which they were derived. The <B>Community-AMARETTO report</B> includes:\n",
        "\n",
        "(<B>1</B>) An overview <B>index.html</B> page that provides:\n",
        "- A summary of the analyzed networks (including links to the original AMARETTO networks derived from multiple datasets)\n",
        "- A network graph overview of the subnetworks or communities learned across multiple datasets\n",
        "- A queryable overview table of shared/distinct communities with assignments of modules to communities across all datasets\n",
        "- A queryable overview table of shared/distinct drivers of communities with assignments of drivers to communities across all datasets\n",
        "- A queryable overview table of gene assignments (drivers and targets) to communities\n",
        "- A queryable overview table with enrichments of known functional categories in communities\n",
        "\n",
        "(<B>2</B>) For each regulatory subnetwork or community a <B>community#.html</B> page is generated that provides:\n",
        "- A network graph visualization of the subnetworks or communities learned across multiple datasets\n",
        "- A queryable table of shared/distinct communities across multiple datasets, including regulatory modules that are shared/distinct across datasets\n",
        "- A queryable table of gene assignments (drivers and targets) in communities\n",
        "- A queryable table with enrichments of known functional categories in communities\n",
        "\n",
        "Overview and community-specific Tables and Network Graphs can be saved as .CSV, .Excel, .PDF and .PNG files."
      ]
    },
    {
      "metadata": {
        "id": "1xNs_92OzMPs",
        "colab_type": "text"
      },
      "cell_type": "markdown",
      "source": [
        "# Time complexity of &#42;AMARETTO\n",
        "\n",
        "Depending on the size of the data, for example, for TCGA cohorts of ~300-500 samples, it can take up to several hours to run the &#42;AMARETTO algorithms and generate reports on the Google Colab servers."
      ]
    },
    {
      "metadata": {
        "id": "d8nodiQghws-",
        "colab_type": "text"
      },
      "cell_type": "markdown",
      "source": [
        "# Resources\n",
        "\n",
        "The source code and user-friendly tools of the current &#42;AMARETTO toolbox and future developments are available from GitHub, Bioconductor, GenePattern, GenomeSpace, GenePattern Notebook and R Jupyter Notebook.\n",
        "\n",
        "#### &#42;AMARETTO in Bioconductor\n",
        "- <B>AMARETTO in Bioconductor</B>: <https://www.bioconductor.org/packages/devel/bioc/html/AMARETTO.html><br>\n",
        "- <B>Community-AMARETTO in Bioconductor</B>: in preparation for submission<br>\n",
        "\n",
        "#### &#42;AMARETTO in GitHub\n",
        "- <B>AMARETTO in GitHub</B>: <https://github.com/gevaertlab/AMARETTO><br>\n",
        "- <B>Community-AMARETTO in GitHub</B>: <https://github.com/broadinstitute/CommunityAMARETTO><br>\n",
        "\n",
        "#### &#42;AMARETTO in GenePattern\n",
        "- <B>AMARETTO in GenePattern</B>:<br>\n",
        "<https://cloud.genepattern.org/gp/pages/index.jsf?lsid=urn:lsid:broad.mit.edu:cancer.software.genepattern.module.analysis:00378><br>\n",
        "- <B>Community-AMARETTO in GenePattern</B>:<br>\n",
        "<https://cloud.genepattern.org/gp/pages/index.jsf?lsid=urn:lsid:broad.mit.edu:cancer.software.genepattern.module.analysis:00381><br>\n",
        "\n",
        "#### &#42;AMARETTO in GenomeSpace\n",
        "The AMARETTO and Community-AMARETTO modules in GenePattern are also available within GenomeSpace: <http://www.genomespace.org/>\n",
        "\n",
        "#### &#42;AMARETTO Notebooks\n",
        "The <B>&#42;AMARETTO in GenePattern and R Notebooks</B> provide users with a complete analysis pipeline that enables running AMARETTO on one or multiple data cohorts and connecting them using Community-AMARETTO. Each AMARETTO and Community-AMARETTO analysis generates a detailed report of genome-wide networks inferred from one cohort and/or shared/distinct across multiple cohorts. These reports include queryable tables and visualizations (heatmaps and network graphs) of shared/distinct cell circuits and their drivers, as well as their functional and phenotypic characterizations.\n",
        "- <B>&#42;AMARETTO in GenePattern Notebook</B>: GenePattern Notebook from <https://notebook.genepattern.org/>\n",
        "- <B>&#42;AMARETTO in R via GitHub and Bioconductor</B>: Jupyter Notebook from <https://colab.research.google.com/>\n",
        "\n",
        "#### &#42;AMARETTO example reports\n",
        "<B>Studying hepatitis C & B virus-induced hepatocellular carcinoma using AMARETTO & Community-AMARETTO:</B><br>\n",
        "- An example report that learns regulatory networks from multi-omics data for hepatocellular carcinoma based on integrating genetic, epigenetic and functional genomics data from TCGA: <a href = \"http://portals.broadinstitute.org/pochetlab/example_reports/AMARETTO_results/LIHC_Report_TfUtils/AMARETTOhtmls/index.html\">AMARETTO Report</a><br>\n",
        "- An example report that integrates regulatory networks derived from >6 liver data sources (multi-omics hepatocellular carcinoma patient data from TCGA, ~25 liver cell line models from CCLE, time course hepatitis C virus infection data in Huh7 models, time course hepatitis B virus infection data in HepG2 models, single-cell hepatitis C virus infection data in Huh7 models, single-cell hepatitis B virus infection data in HepG2 models, further augmented with previously published prognostic network models that were derived from hepatocellular carcinoma patient data): <a href = \"http://portals.broadinstitute.org/pochetlab/example_reports/Community-AMARETTO_results/cAMARETTO_all6_nonfiltered_SignaturesLiverHoshida/index.html\">Community-AMARETTO Report</a><br>\n",
        "- An example of ongoing work on developing gene-level ontology network representations from AMARETTO modules & Community-AMARETTO communities: <a href = \"https://monabiyan.shinyapps.io/app_1/\">Shiny App</a>\n",
        "\n",
        "<B>Multi-omics & imaging data fusion for glioblastoma multiforme using AMARETTO:</B><br>\n",
        "- An example report that integrates imaging data into the multi-omics regulatory networks for glioblastoma multiforme based on multi-omics and non-invasive imaging data from TCGA/TCIA (that we will later connect with networks learned from integrating RNA-Seq refined for anatomic structures and stem cells with histopathology imaging data from IvyGAP and that we will subsequently further refine based on single-cell RNA-Seq studies): <a href = \"http://portals.broadinstitute.org/pochetlab/example_reports/AMARETTO_results/GBM_Report/AMARETTOhtmls/index.html\">AMARETTO Report</a>"
      ]
    },
    {
      "metadata": {
        "id": "TG8vcefyj_O8",
        "colab_type": "text"
      },
      "cell_type": "markdown",
      "source": [
        "# References\n",
        "\n",
        "1. Multiscale and multimodal inference of regulatory networks using &#42;AMARETTO. <i>In preparation for submission.</i>\n",
        "\n",
        "2. Champion M., Brennan K., Croonenborghs T., Gentles A. J., Pochet N., Gevaert O. (2018). Module Analysis Captures Pancancer Genetically and Epigenetically Deregulated Cancer Driver Genes for Smoking and Antiviral Response. <i>EBioMedicine</i>, 27, 156-166. PMID:29331675 PMCID:PMC5828545\n",
        "\n",
        "3. Gevaert O., Villalobos V., Sikic B. I., Plevritis S. K. (2014). Identification of ovarian cancer driver genes by using module network integration of multi-omics data. <i>Interface Focus</i>, 3(4), 20130013. PMID:24511378 PMCID:PMC3915833\n",
        "\n",
        "4. Gevaert O., Tibshirani R., Plevritis S. K. (2015). Pancancer analysis of DNA methylation-driven genes using MethylMix. <i>Genome Biology</i>, 16(1), 17. PMID:25631659 PMCID:PMC4365533\n",
        "\n",
        "5. Gevaert O. (2015). MethylMix: an R package for identifying DNA methylation-driven genes. <i>Bioinformatics</i>, 31(11), 1839-41. PMID:25609794 PMCID:PMC4443673\n",
        "\n",
        "6. Stubbs B. J., Gopaulakrishnan S., Glass K., Pochet N., Everaert C., Raby B., Carey V. (2019). TFutils: Data structures for transcription factor bioinformatics. <i>F1000Research</i>, 8:152. (<https://doi.org/10.12688/f1000research.17976.1>)\n",
        "\n",
        "7. Reich M., Liefeld T., Ocana M., Jang D., Bistline J., Robinson J., Carr P., Hill B., McLaughlin J., Pochet N., Borges-Rivera D., Tabor T., Thorvaldsdottir H., Regev A., Mesirov J. P. (2013). GenomeSpace: an environment for frictionless bioinformatics. <i>F1000Posters</i>, 4:804 (<https://f1000research.com/posters/1093972>)\n",
        "\n",
        "8. Qu K., Garamszegi S., Wu F., Thorvaldsdottir H., Liefeld T., Ocana M., Borges-Rivera D., Pochet N., Robinson J. T., Demchak B., Hull T., Ben-Artzi G., Blankenberg D., Barber G. P., Lee B. T., Kuhn R. M., Nekrutenko A., Segal E., Ideker T., Reich M., Regev A., Chang H. Y., Mesirov J. P. (2016). Integrative genomic analysis by interoperation of bioinformatics tools in GenomeSpace. <i>Nature Methods</i>, 13(3), 245-247. PMID:26780094 PMCID:PMC4767623\n",
        "\n",
        "9. Cedoz PL, Prunello M, Brennan K, Gevaert O. MethylMix 2.0: an R package for identifying DNA methylation genes. <i>Bioinformatics</i>. 2018 Sep 1;34(17):3044-3046. doi: 10.1093/bioinformatics/bty156. PubMed PMID: 29668835; PubMed Central PMCID: PMC6129298.\n",
        "\n",
        "10. Gevaert O, Tibshirani R, Plevritis SK. Pancancer analysis of DNA methylation-driven genes using MethylMix. <i>Genome Biology</i> 2015 Jan 29;16:17. doi: 10.1186/s13059-014-0579-8. PubMed PMID: 25631659; PubMed Central PMCID: PMC4365533.\n",
        "\n",
        "11. Gevaert O. MethylMix: an R package for identifying DNA methylation-driven genes. <i>Bioinformatics</i>. 2015 Jun 1;31(11):1839-41. doi: 10.1093/bioinformatics/btv020. Epub 2015 Jan 20. PubMed PMID: 25609794; PubMed Central PMCID: PMC4443673."
      ]
    },
    {
      "metadata": {
        "id": "R65MLpO2oKiv",
        "colab_type": "text"
      },
      "cell_type": "markdown",
      "source": [
        "# Funding\n",
        "\n",
        "This work was supported by grants from NIH NCI ITCR R21 CA209940 (Pochet), NIH NCI ITCR U01 CA214846 Collaborative Supplement (Carey/Pochet) and NIH NIAID R03 AI131066 (Pochet)."
      ]
    },
    {
      "metadata": {
        "id": "bNAc83H9kFe_",
        "colab_type": "text"
      },
      "cell_type": "markdown",
      "source": [
        "# Questions?\n",
        "\n",
        "For any questions with the &#42;AMARETTO Notebooks, please contact <B>Nathalie Pochet</B> (<npochet@broadinstitute.org>) and <B>Olivier Gevaert</B> (<olivier.gevaert@stanford.edu>)."
      ]
    }
  ]
}